{
 "cells": [
  {
   "cell_type": "markdown",
   "id": "0014d68a-887e-40f2-bae2-c707a5f4893a",
   "metadata": {},
   "source": [
    "# Extracting text data out of PDF and word files"
   ]
  },
  {
   "cell_type": "code",
   "execution_count": 1,
   "id": "f4038055-2dbc-446c-9945-ba264cc5f02a",
   "metadata": {},
   "outputs": [],
   "source": [
    "from os import listdir\n",
    "from os.path import isfile, join\n",
    "import PyPDF2\n",
    "import textract"
   ]
  },
  {
   "cell_type": "code",
   "execution_count": 5,
   "id": "8e5ad3d0-f386-4781-98c8-388dc93dcd3c",
   "metadata": {},
   "outputs": [],
   "source": [
    "PATH_TO_FILES = '../data/raw/examples/'"
   ]
  },
  {
   "cell_type": "code",
   "execution_count": 7,
   "id": "36ebf3cc-a7fe-4507-801b-e974e38f2d50",
   "metadata": {},
   "outputs": [
    {
     "data": {
      "text/plain": [
       "['Constitution.pdf',\n",
       " 'GenerosityConstitutionscanned.pdf',\n",
       " 'InstumentofGovernance.pdf',\n",
       " 'YCBPTAconstitution2.pdf',\n",
       " 'FoundationGoverningDocument.docx',\n",
       " 'iso-8859-1GoverningDocumentBalesFarm.pdf',\n",
       " 'FONAconstitution.pdf']"
      ]
     },
     "execution_count": 7,
     "metadata": {},
     "output_type": "execute_result"
    }
   ],
   "source": [
    "example_names = [f for f in listdir(PATH_TO_FILES) if isfile(join(PATH_TO_FILES, f))]; example_names"
   ]
  },
  {
   "cell_type": "code",
   "execution_count": 25,
   "id": "6fb99a5e-802e-4d5e-b044-5548682c95ce",
   "metadata": {},
   "outputs": [],
   "source": [
    "def extract_text_from_pdf(filename):\n",
    "    path_to_file = PATH_TO_FILES + filename\n",
    "    \n",
    "    with open(path_to_file, 'rb') as file:\n",
    "        pdfReader = PyPDF2.PdfReader(file)\n",
    "        num_pages = pdfReader.numPages\n",
    "        count = 0\n",
    "        text = \"\"\n",
    "        \n",
    "        while count < num_pages:\n",
    "            pageObj = pdfReader.getPage(count)\n",
    "            count +=1\n",
    "            text += pageObj.extractText()\n",
    "            \n",
    "    if text == \"\":\n",
    "        text = textract.process(path_to_file, method='tesseract', language='eng')\n",
    "    \n",
    "    return text"
   ]
  },
  {
   "cell_type": "markdown",
   "id": "da0ad7b2-f04f-43a6-a0c2-2cf0e9faef4f",
   "metadata": {},
   "source": [
    "#### Text-based"
   ]
  },
  {
   "cell_type": "code",
   "execution_count": 26,
   "id": "7b04998a-9c38-4353-9605-8625b3bce848",
   "metadata": {},
   "outputs": [
    {
     "data": {
      "text/plain": [
       "' \\n 1\\n\\nConstitution \\n \\n \\n1  Name \\nThe charity’s name is Wragby ChEF. \\n \\n2  The purposes of the charity are \\n  To provide free healthy meals to local children during school holidays. \\n \\n3  Committee \\nThe charity shall be managed by a committee of members who are appointed at the Annual \\ngeneral meeting of the charity. \\n \\n4  Carrying out the purposes \\nIn order to carry out the charitable purposes, the committee have the power to: \\n \\n(1)  raise funds, receive grants and donations \\n \\n(2)  apply funds to carry out the work of the charity \\n \\n(3)  co-operate with and support other charities with similar purposes \\n \\n(4)  do anything which is lawful and necessary to achieve the purposes. \\n \\n5\\n \\nMembership \\nThe charity shall have a membership. People who support the work of the charity and are \\naged 18 or over, can apply to the committee to become a member. Once accepted by the \\ncommittee, membership lasts for 1 year and may be renewed. The committee will keep an \\nup-to-date membership list. \\n \\nThe committee may remove a person’s membership if they believe it is in the best interests \\nof the charity. The member has the right to be heard by the committee before the decision \\nis made and can be accompanied by a friend.  \\n \\n6  Annual general meeting \\n \\n(1)  The AGM must be held every year, with 14 days notice given to all members telling \\nthem what is on the agenda. Minutes must be kept of the AGM \\n \\n(2)  There must be at least 4 members present at the AGM \\n \\n(3)  Every member has one vote \\n \\n(4)  The committee shall present the annual report and accounts \\n \\n(5)  Any member may stand for election as a committee member  \\n \\n(6)  Members shall elect between 3 and 10 committee members to serve for the next \\nyear. They will retire at the next AGM but may stand for re-election.  \\n \\n7  Trustee meetings \\n \\n(1)  Committee members must hold at least 3 meetings each year. At their first meeting \\nafter the AGM they will elect a chair, treasurer and secretary. Committee members \\nmay act by majority decision \\n \\n(2)  At least 3 committee members must be present at the meeting to be able to take \\ndecisions. Minutes shall be kept for every meeting \\n  \\n 2\\n\\n(3)  If committee members have a conflict of interest they must declare it and leave the \\nmeeting while this matter is being discussed or decided \\n \\n(4)  During the year, the committee members may appoint up to 2 additional committee \\nmembers. They will stand down at the next AGM\\n  \\n \\n(5)  The  committee  members  may  make  reasonable  additional  rules  to  help  run  the \\ncharity. These rules must not conflict with this constitution or the law.\\n  \\n \\n8  Money and property \\n \\n(1)  Money and property must only be used for the charity’s purposes \\n \\n(2)  Committee members must keep accounts. The most recent annual accounts can be \\nseen by anybody on request \\n \\n(3)  Committee members cannot receive any money or property from the charity, except \\nto refund reasonable out of pocket expenses \\n \\n(4)  Money must be held in the charity’s bank account. All cheques must be signed by  \\n     2 committee members. \\n \\n9  General meetings \\nIf the committee members consider it necessary to change the constitution, or wind up the \\ncharity, they must call a general meeting so that the membership can make the decision.  \\ncommittee members must also call a general meeting if they receive a written request from \\nthe majority of members. All members must be given 14 days notice and told the reason for \\nthe meeting. All decisions require a two thirds majority and minutes must be kept.    \\n \\n(1)  Winding up -\\n \\nany money or property remaining after payment of debts must be \\ngiven to a charity with similar purposes to this one \\n \\n(2)  Changes to the constitution - can be made at AGMs or general meetings. No \\nchange can be made that would make the organisation no longer a charity  \\n \\n(3)  General meeting\\n - \\ncalled on written request from a majority of members \\n \\n(4)  Committee members may also call a general meeting to consult the membership \\n \\n10  Setting up the charity\\n \\n \\n \\nThis constitution was adopted on 14\\n th\\n November 2018 by the people whose signatures \\nappear below. They are the first members of the charity and will be the committee members \\nuntil the AGM, which must be held within one year of this date. \\n \\nSigned       Print name and address \\n \\n  ________________________  \\nNorma Higton\\n \\n \\n \\n   ________________________  \\nMarion Doxey\\n \\n \\n \\n  ________________________  \\nJulie Pounds \\n \\n \\n  __________________  Julie Fisher-Swift \\n \\n \\n \\n '"
      ]
     },
     "execution_count": 26,
     "metadata": {},
     "output_type": "execute_result"
    }
   ],
   "source": [
    "constitution = extract_text_from_pdf(example_names[0]); constitution"
   ]
  },
  {
   "cell_type": "markdown",
   "id": "8fb778fb-3137-4320-908c-5de80d132158",
   "metadata": {},
   "source": [
    "#### Scanned - dodgy"
   ]
  },
  {
   "cell_type": "code",
   "execution_count": 27,
   "id": "21b71cf6-5cf5-4fe2-9e27-70bbb9010674",
   "metadata": {},
   "outputs": [
    {
     "ename": "ShellError",
     "evalue": "The command `pdftoppm ../data/raw/examples/GenerosityConstitutionscanned.pdf /tmp/tmpo4xuf55c/conv` failed because the executable\n`pdftoppm` is not installed on your system. Please make\nsure the appropriate dependencies are installed before using\ntextract:\n\n    http://textract.readthedocs.org/en/latest/installation.html\n",
     "output_type": "error",
     "traceback": [
      "\u001b[0;31m---------------------------------------------------------------------------\u001b[0m",
      "\u001b[0;31mFileNotFoundError\u001b[0m                         Traceback (most recent call last)",
      "File \u001b[0;32m~/.conda/envs/project-nepo-env/lib/python3.8/site-packages/textract/parsers/utils.py:87\u001b[0m, in \u001b[0;36mShellParser.run\u001b[0;34m(self, args)\u001b[0m\n\u001b[1;32m     86\u001b[0m \u001b[38;5;28;01mtry\u001b[39;00m:\n\u001b[0;32m---> 87\u001b[0m     pipe \u001b[38;5;241m=\u001b[39m \u001b[43msubprocess\u001b[49m\u001b[38;5;241;43m.\u001b[39;49m\u001b[43mPopen\u001b[49m\u001b[43m(\u001b[49m\n\u001b[1;32m     88\u001b[0m \u001b[43m        \u001b[49m\u001b[43margs\u001b[49m\u001b[43m,\u001b[49m\n\u001b[1;32m     89\u001b[0m \u001b[43m        \u001b[49m\u001b[43mstdout\u001b[49m\u001b[38;5;241;43m=\u001b[39;49m\u001b[43msubprocess\u001b[49m\u001b[38;5;241;43m.\u001b[39;49m\u001b[43mPIPE\u001b[49m\u001b[43m,\u001b[49m\u001b[43m \u001b[49m\u001b[43mstderr\u001b[49m\u001b[38;5;241;43m=\u001b[39;49m\u001b[43msubprocess\u001b[49m\u001b[38;5;241;43m.\u001b[39;49m\u001b[43mPIPE\u001b[49m\u001b[43m,\u001b[49m\n\u001b[1;32m     90\u001b[0m \u001b[43m    \u001b[49m\u001b[43m)\u001b[49m\n\u001b[1;32m     91\u001b[0m \u001b[38;5;28;01mexcept\u001b[39;00m \u001b[38;5;167;01mOSError\u001b[39;00m \u001b[38;5;28;01mas\u001b[39;00m e:\n",
      "File \u001b[0;32m~/.conda/envs/project-nepo-env/lib/python3.8/subprocess.py:858\u001b[0m, in \u001b[0;36mPopen.__init__\u001b[0;34m(self, args, bufsize, executable, stdin, stdout, stderr, preexec_fn, close_fds, shell, cwd, env, universal_newlines, startupinfo, creationflags, restore_signals, start_new_session, pass_fds, encoding, errors, text)\u001b[0m\n\u001b[1;32m    855\u001b[0m             \u001b[38;5;28mself\u001b[39m\u001b[38;5;241m.\u001b[39mstderr \u001b[38;5;241m=\u001b[39m io\u001b[38;5;241m.\u001b[39mTextIOWrapper(\u001b[38;5;28mself\u001b[39m\u001b[38;5;241m.\u001b[39mstderr,\n\u001b[1;32m    856\u001b[0m                     encoding\u001b[38;5;241m=\u001b[39mencoding, errors\u001b[38;5;241m=\u001b[39merrors)\n\u001b[0;32m--> 858\u001b[0m     \u001b[38;5;28;43mself\u001b[39;49m\u001b[38;5;241;43m.\u001b[39;49m\u001b[43m_execute_child\u001b[49m\u001b[43m(\u001b[49m\u001b[43margs\u001b[49m\u001b[43m,\u001b[49m\u001b[43m \u001b[49m\u001b[43mexecutable\u001b[49m\u001b[43m,\u001b[49m\u001b[43m \u001b[49m\u001b[43mpreexec_fn\u001b[49m\u001b[43m,\u001b[49m\u001b[43m \u001b[49m\u001b[43mclose_fds\u001b[49m\u001b[43m,\u001b[49m\n\u001b[1;32m    859\u001b[0m \u001b[43m                        \u001b[49m\u001b[43mpass_fds\u001b[49m\u001b[43m,\u001b[49m\u001b[43m \u001b[49m\u001b[43mcwd\u001b[49m\u001b[43m,\u001b[49m\u001b[43m \u001b[49m\u001b[43menv\u001b[49m\u001b[43m,\u001b[49m\n\u001b[1;32m    860\u001b[0m \u001b[43m                        \u001b[49m\u001b[43mstartupinfo\u001b[49m\u001b[43m,\u001b[49m\u001b[43m \u001b[49m\u001b[43mcreationflags\u001b[49m\u001b[43m,\u001b[49m\u001b[43m \u001b[49m\u001b[43mshell\u001b[49m\u001b[43m,\u001b[49m\n\u001b[1;32m    861\u001b[0m \u001b[43m                        \u001b[49m\u001b[43mp2cread\u001b[49m\u001b[43m,\u001b[49m\u001b[43m \u001b[49m\u001b[43mp2cwrite\u001b[49m\u001b[43m,\u001b[49m\n\u001b[1;32m    862\u001b[0m \u001b[43m                        \u001b[49m\u001b[43mc2pread\u001b[49m\u001b[43m,\u001b[49m\u001b[43m \u001b[49m\u001b[43mc2pwrite\u001b[49m\u001b[43m,\u001b[49m\n\u001b[1;32m    863\u001b[0m \u001b[43m                        \u001b[49m\u001b[43merrread\u001b[49m\u001b[43m,\u001b[49m\u001b[43m \u001b[49m\u001b[43merrwrite\u001b[49m\u001b[43m,\u001b[49m\n\u001b[1;32m    864\u001b[0m \u001b[43m                        \u001b[49m\u001b[43mrestore_signals\u001b[49m\u001b[43m,\u001b[49m\u001b[43m \u001b[49m\u001b[43mstart_new_session\u001b[49m\u001b[43m)\u001b[49m\n\u001b[1;32m    865\u001b[0m \u001b[38;5;28;01mexcept\u001b[39;00m:\n\u001b[1;32m    866\u001b[0m     \u001b[38;5;66;03m# Cleanup if the child failed starting.\u001b[39;00m\n",
      "File \u001b[0;32m~/.conda/envs/project-nepo-env/lib/python3.8/subprocess.py:1704\u001b[0m, in \u001b[0;36mPopen._execute_child\u001b[0;34m(self, args, executable, preexec_fn, close_fds, pass_fds, cwd, env, startupinfo, creationflags, shell, p2cread, p2cwrite, c2pread, c2pwrite, errread, errwrite, restore_signals, start_new_session)\u001b[0m\n\u001b[1;32m   1703\u001b[0m         err_msg \u001b[38;5;241m=\u001b[39m os\u001b[38;5;241m.\u001b[39mstrerror(errno_num)\n\u001b[0;32m-> 1704\u001b[0m     \u001b[38;5;28;01mraise\u001b[39;00m child_exception_type(errno_num, err_msg, err_filename)\n\u001b[1;32m   1705\u001b[0m \u001b[38;5;28;01mraise\u001b[39;00m child_exception_type(err_msg)\n",
      "\u001b[0;31mFileNotFoundError\u001b[0m: [Errno 2] No such file or directory: 'pdftoppm'",
      "\nDuring handling of the above exception, another exception occurred:\n",
      "\u001b[0;31mShellError\u001b[0m                                Traceback (most recent call last)",
      "Input \u001b[0;32mIn [27]\u001b[0m, in \u001b[0;36m<cell line: 1>\u001b[0;34m()\u001b[0m\n\u001b[0;32m----> 1\u001b[0m constitution \u001b[38;5;241m=\u001b[39m \u001b[43mextract_text_from_pdf\u001b[49m\u001b[43m(\u001b[49m\u001b[43mexample_names\u001b[49m\u001b[43m[\u001b[49m\u001b[38;5;241;43m1\u001b[39;49m\u001b[43m]\u001b[49m\u001b[43m)\u001b[49m; constitution\n",
      "Input \u001b[0;32mIn [25]\u001b[0m, in \u001b[0;36mextract_text_from_pdf\u001b[0;34m(filename)\u001b[0m\n\u001b[1;32m     13\u001b[0m         text \u001b[38;5;241m+\u001b[39m\u001b[38;5;241m=\u001b[39m pageObj\u001b[38;5;241m.\u001b[39mextractText()\n\u001b[1;32m     15\u001b[0m \u001b[38;5;28;01mif\u001b[39;00m text \u001b[38;5;241m==\u001b[39m \u001b[38;5;124m\"\u001b[39m\u001b[38;5;124m\"\u001b[39m:\n\u001b[0;32m---> 16\u001b[0m     text \u001b[38;5;241m=\u001b[39m \u001b[43mtextract\u001b[49m\u001b[38;5;241;43m.\u001b[39;49m\u001b[43mprocess\u001b[49m\u001b[43m(\u001b[49m\u001b[43mpath_to_file\u001b[49m\u001b[43m,\u001b[49m\u001b[43m \u001b[49m\u001b[43mmethod\u001b[49m\u001b[38;5;241;43m=\u001b[39;49m\u001b[38;5;124;43m'\u001b[39;49m\u001b[38;5;124;43mtesseract\u001b[39;49m\u001b[38;5;124;43m'\u001b[39;49m\u001b[43m,\u001b[49m\u001b[43m \u001b[49m\u001b[43mlanguage\u001b[49m\u001b[38;5;241;43m=\u001b[39;49m\u001b[38;5;124;43m'\u001b[39;49m\u001b[38;5;124;43meng\u001b[39;49m\u001b[38;5;124;43m'\u001b[39;49m\u001b[43m)\u001b[49m\n\u001b[1;32m     18\u001b[0m \u001b[38;5;28;01mreturn\u001b[39;00m text\n",
      "File \u001b[0;32m~/.conda/envs/project-nepo-env/lib/python3.8/site-packages/textract/parsers/__init__.py:79\u001b[0m, in \u001b[0;36mprocess\u001b[0;34m(filename, input_encoding, output_encoding, extension, **kwargs)\u001b[0m\n\u001b[1;32m     76\u001b[0m \u001b[38;5;66;03m# do the extraction\u001b[39;00m\n\u001b[1;32m     78\u001b[0m parser \u001b[38;5;241m=\u001b[39m filetype_module\u001b[38;5;241m.\u001b[39mParser()\n\u001b[0;32m---> 79\u001b[0m \u001b[38;5;28;01mreturn\u001b[39;00m \u001b[43mparser\u001b[49m\u001b[38;5;241;43m.\u001b[39;49m\u001b[43mprocess\u001b[49m\u001b[43m(\u001b[49m\u001b[43mfilename\u001b[49m\u001b[43m,\u001b[49m\u001b[43m \u001b[49m\u001b[43minput_encoding\u001b[49m\u001b[43m,\u001b[49m\u001b[43m \u001b[49m\u001b[43moutput_encoding\u001b[49m\u001b[43m,\u001b[49m\u001b[43m \u001b[49m\u001b[38;5;241;43m*\u001b[39;49m\u001b[38;5;241;43m*\u001b[39;49m\u001b[43mkwargs\u001b[49m\u001b[43m)\u001b[49m\n",
      "File \u001b[0;32m~/.conda/envs/project-nepo-env/lib/python3.8/site-packages/textract/parsers/utils.py:46\u001b[0m, in \u001b[0;36mBaseParser.process\u001b[0;34m(self, filename, input_encoding, output_encoding, **kwargs)\u001b[0m\n\u001b[1;32m     36\u001b[0m \u001b[38;5;124;03m\"\"\"Process ``filename`` and encode byte-string with ``encoding``. This\u001b[39;00m\n\u001b[1;32m     37\u001b[0m \u001b[38;5;124;03mmethod is called by :func:`textract.parsers.process` and wraps\u001b[39;00m\n\u001b[1;32m     38\u001b[0m \u001b[38;5;124;03mthe :meth:`.BaseParser.extract` method in `a delicious unicode\u001b[39;00m\n\u001b[1;32m     39\u001b[0m \u001b[38;5;124;03msandwich <http://nedbatchelder.com/text/unipain.html>`_.\u001b[39;00m\n\u001b[1;32m     40\u001b[0m \n\u001b[1;32m     41\u001b[0m \u001b[38;5;124;03m\"\"\"\u001b[39;00m\n\u001b[1;32m     42\u001b[0m \u001b[38;5;66;03m# make a \"unicode sandwich\" to handle dealing with unknown\u001b[39;00m\n\u001b[1;32m     43\u001b[0m \u001b[38;5;66;03m# input byte strings and converting them to a predictable\u001b[39;00m\n\u001b[1;32m     44\u001b[0m \u001b[38;5;66;03m# output encoding\u001b[39;00m\n\u001b[1;32m     45\u001b[0m \u001b[38;5;66;03m# http://nedbatchelder.com/text/unipain/unipain.html#35\u001b[39;00m\n\u001b[0;32m---> 46\u001b[0m byte_string \u001b[38;5;241m=\u001b[39m \u001b[38;5;28;43mself\u001b[39;49m\u001b[38;5;241;43m.\u001b[39;49m\u001b[43mextract\u001b[49m\u001b[43m(\u001b[49m\u001b[43mfilename\u001b[49m\u001b[43m,\u001b[49m\u001b[43m \u001b[49m\u001b[38;5;241;43m*\u001b[39;49m\u001b[38;5;241;43m*\u001b[39;49m\u001b[43mkwargs\u001b[49m\u001b[43m)\u001b[49m\n\u001b[1;32m     47\u001b[0m unicode_string \u001b[38;5;241m=\u001b[39m \u001b[38;5;28mself\u001b[39m\u001b[38;5;241m.\u001b[39mdecode(byte_string, input_encoding)\n\u001b[1;32m     48\u001b[0m \u001b[38;5;28;01mreturn\u001b[39;00m \u001b[38;5;28mself\u001b[39m\u001b[38;5;241m.\u001b[39mencode(unicode_string, output_encoding)\n",
      "File \u001b[0;32m~/.conda/envs/project-nepo-env/lib/python3.8/site-packages/textract/parsers/pdf_parser.py:34\u001b[0m, in \u001b[0;36mParser.extract\u001b[0;34m(self, filename, method, **kwargs)\u001b[0m\n\u001b[1;32m     32\u001b[0m     \u001b[38;5;28;01mreturn\u001b[39;00m \u001b[38;5;28mself\u001b[39m\u001b[38;5;241m.\u001b[39mextract_pdfminer(filename, \u001b[38;5;241m*\u001b[39m\u001b[38;5;241m*\u001b[39mkwargs)\n\u001b[1;32m     33\u001b[0m \u001b[38;5;28;01melif\u001b[39;00m method \u001b[38;5;241m==\u001b[39m \u001b[38;5;124m'\u001b[39m\u001b[38;5;124mtesseract\u001b[39m\u001b[38;5;124m'\u001b[39m:\n\u001b[0;32m---> 34\u001b[0m     \u001b[38;5;28;01mreturn\u001b[39;00m \u001b[38;5;28;43mself\u001b[39;49m\u001b[38;5;241;43m.\u001b[39;49m\u001b[43mextract_tesseract\u001b[49m\u001b[43m(\u001b[49m\u001b[43mfilename\u001b[49m\u001b[43m,\u001b[49m\u001b[43m \u001b[49m\u001b[38;5;241;43m*\u001b[39;49m\u001b[38;5;241;43m*\u001b[39;49m\u001b[43mkwargs\u001b[49m\u001b[43m)\u001b[49m\n\u001b[1;32m     35\u001b[0m \u001b[38;5;28;01melse\u001b[39;00m:\n\u001b[1;32m     36\u001b[0m     \u001b[38;5;28;01mraise\u001b[39;00m UnknownMethod(method)\n",
      "File \u001b[0;32m~/.conda/envs/project-nepo-env/lib/python3.8/site-packages/textract/parsers/pdf_parser.py:68\u001b[0m, in \u001b[0;36mParser.extract_tesseract\u001b[0;34m(self, filename, **kwargs)\u001b[0m\n\u001b[1;32m     66\u001b[0m contents \u001b[38;5;241m=\u001b[39m []\n\u001b[1;32m     67\u001b[0m \u001b[38;5;28;01mtry\u001b[39;00m:\n\u001b[0;32m---> 68\u001b[0m     stdout, _ \u001b[38;5;241m=\u001b[39m \u001b[38;5;28;43mself\u001b[39;49m\u001b[38;5;241;43m.\u001b[39;49m\u001b[43mrun\u001b[49m\u001b[43m(\u001b[49m\u001b[43m[\u001b[49m\u001b[38;5;124;43m'\u001b[39;49m\u001b[38;5;124;43mpdftoppm\u001b[39;49m\u001b[38;5;124;43m'\u001b[39;49m\u001b[43m,\u001b[49m\u001b[43m \u001b[49m\u001b[43mfilename\u001b[49m\u001b[43m,\u001b[49m\u001b[43m \u001b[49m\u001b[43mbase\u001b[49m\u001b[43m]\u001b[49m\u001b[43m)\u001b[49m\n\u001b[1;32m     70\u001b[0m     \u001b[38;5;28;01mfor\u001b[39;00m page \u001b[38;5;129;01min\u001b[39;00m \u001b[38;5;28msorted\u001b[39m(os\u001b[38;5;241m.\u001b[39mlistdir(temp_dir)):\n\u001b[1;32m     71\u001b[0m         page_path \u001b[38;5;241m=\u001b[39m os\u001b[38;5;241m.\u001b[39mpath\u001b[38;5;241m.\u001b[39mjoin(temp_dir, page)\n",
      "File \u001b[0;32m~/.conda/envs/project-nepo-env/lib/python3.8/site-packages/textract/parsers/utils.py:95\u001b[0m, in \u001b[0;36mShellParser.run\u001b[0;34m(self, args)\u001b[0m\n\u001b[1;32m     91\u001b[0m \u001b[38;5;28;01mexcept\u001b[39;00m \u001b[38;5;167;01mOSError\u001b[39;00m \u001b[38;5;28;01mas\u001b[39;00m e:\n\u001b[1;32m     92\u001b[0m     \u001b[38;5;28;01mif\u001b[39;00m e\u001b[38;5;241m.\u001b[39merrno \u001b[38;5;241m==\u001b[39m errno\u001b[38;5;241m.\u001b[39mENOENT:\n\u001b[1;32m     93\u001b[0m         \u001b[38;5;66;03m# File not found.\u001b[39;00m\n\u001b[1;32m     94\u001b[0m         \u001b[38;5;66;03m# This is equivalent to getting exitcode 127 from sh\u001b[39;00m\n\u001b[0;32m---> 95\u001b[0m         \u001b[38;5;28;01mraise\u001b[39;00m exceptions\u001b[38;5;241m.\u001b[39mShellError(\n\u001b[1;32m     96\u001b[0m             \u001b[38;5;124m'\u001b[39m\u001b[38;5;124m \u001b[39m\u001b[38;5;124m'\u001b[39m\u001b[38;5;241m.\u001b[39mjoin(args), \u001b[38;5;241m127\u001b[39m, \u001b[38;5;124m'\u001b[39m\u001b[38;5;124m'\u001b[39m, \u001b[38;5;124m'\u001b[39m\u001b[38;5;124m'\u001b[39m,\n\u001b[1;32m     97\u001b[0m         )\n\u001b[1;32m     98\u001b[0m     \u001b[38;5;28;01melse\u001b[39;00m: \u001b[38;5;28;01mraise\u001b[39;00m \u001b[38;5;66;03m#Reraise the last exception unmodified\u001b[39;00m\n\u001b[1;32m    100\u001b[0m \u001b[38;5;66;03m# pipe.wait() ends up hanging on large files. using\u001b[39;00m\n\u001b[1;32m    101\u001b[0m \u001b[38;5;66;03m# pipe.communicate appears to avoid this issue\u001b[39;00m\n",
      "\u001b[0;31mShellError\u001b[0m: The command `pdftoppm ../data/raw/examples/GenerosityConstitutionscanned.pdf /tmp/tmpo4xuf55c/conv` failed because the executable\n`pdftoppm` is not installed on your system. Please make\nsure the appropriate dependencies are installed before using\ntextract:\n\n    http://textract.readthedocs.org/en/latest/installation.html\n"
     ]
    }
   ],
   "source": [
    "constitution = extract_text_from_pdf(example_names[1]); constitution"
   ]
  },
  {
   "cell_type": "markdown",
   "id": "a2333681-c713-405d-b894-81692e4b82e2",
   "metadata": {},
   "source": [
    "#### Scanned - not dodgy"
   ]
  },
  {
   "cell_type": "code",
   "execution_count": 20,
   "id": "bfa4aec6-30c5-42bd-931b-93587cf19380",
   "metadata": {},
   "outputs": [
    {
     "data": {
      "text/plain": [
       "''"
      ]
     },
     "execution_count": 20,
     "metadata": {},
     "output_type": "execute_result"
    }
   ],
   "source": [
    "constitution = extract_text_from_pdf(example_names[3]); constitution"
   ]
  },
  {
   "cell_type": "markdown",
   "id": "f0ee87b7-d772-4092-b8e3-cf5b6cb90a22",
   "metadata": {},
   "source": [
    "#### This one is rotated"
   ]
  },
  {
   "cell_type": "code",
   "execution_count": 21,
   "id": "5c28585c-8486-4eee-8390-d9e8c20abe7a",
   "metadata": {},
   "outputs": [
    {
     "ename": "PdfStreamError",
     "evalue": "Stream has ended unexpectedly",
     "output_type": "error",
     "traceback": [
      "\u001b[0;31m---------------------------------------------------------------------------\u001b[0m",
      "\u001b[0;31mPdfStreamError\u001b[0m                            Traceback (most recent call last)",
      "Input \u001b[0;32mIn [21]\u001b[0m, in \u001b[0;36m<cell line: 1>\u001b[0;34m()\u001b[0m\n\u001b[0;32m----> 1\u001b[0m constitution \u001b[38;5;241m=\u001b[39m \u001b[43mextract_text_from_pdf\u001b[49m\u001b[43m(\u001b[49m\u001b[43mexample_names\u001b[49m\u001b[43m[\u001b[49m\u001b[38;5;241;43m4\u001b[39;49m\u001b[43m]\u001b[49m\u001b[43m)\u001b[49m; constitution\n",
      "Input \u001b[0;32mIn [15]\u001b[0m, in \u001b[0;36mextract_text_from_pdf\u001b[0;34m(filename)\u001b[0m\n\u001b[1;32m      2\u001b[0m path_to_file \u001b[38;5;241m=\u001b[39m PATH_TO_FILES \u001b[38;5;241m+\u001b[39m filename\n\u001b[1;32m      4\u001b[0m \u001b[38;5;28;01mwith\u001b[39;00m \u001b[38;5;28mopen\u001b[39m(path_to_file, \u001b[38;5;124m'\u001b[39m\u001b[38;5;124mrb\u001b[39m\u001b[38;5;124m'\u001b[39m) \u001b[38;5;28;01mas\u001b[39;00m file:\n\u001b[0;32m----> 5\u001b[0m     pdfReader \u001b[38;5;241m=\u001b[39m \u001b[43mPyPDF2\u001b[49m\u001b[38;5;241;43m.\u001b[39;49m\u001b[43mPdfReader\u001b[49m\u001b[43m(\u001b[49m\u001b[43mfile\u001b[49m\u001b[43m)\u001b[49m\n\u001b[1;32m      6\u001b[0m     num_pages \u001b[38;5;241m=\u001b[39m pdfReader\u001b[38;5;241m.\u001b[39mnumPages\n\u001b[1;32m      7\u001b[0m     count \u001b[38;5;241m=\u001b[39m \u001b[38;5;241m0\u001b[39m\n",
      "File \u001b[0;32m~/.conda/envs/project-nepo-env/lib/python3.8/site-packages/PyPDF2/_reader.py:258\u001b[0m, in \u001b[0;36mPdfReader.__init__\u001b[0;34m(self, stream, strict, password)\u001b[0m\n\u001b[1;32m    256\u001b[0m     \u001b[38;5;28;01mwith\u001b[39;00m \u001b[38;5;28mopen\u001b[39m(stream, \u001b[38;5;124m\"\u001b[39m\u001b[38;5;124mrb\u001b[39m\u001b[38;5;124m\"\u001b[39m) \u001b[38;5;28;01mas\u001b[39;00m fh:\n\u001b[1;32m    257\u001b[0m         stream \u001b[38;5;241m=\u001b[39m BytesIO(b_(fh\u001b[38;5;241m.\u001b[39mread()))\n\u001b[0;32m--> 258\u001b[0m \u001b[38;5;28;43mself\u001b[39;49m\u001b[38;5;241;43m.\u001b[39;49m\u001b[43mread\u001b[49m\u001b[43m(\u001b[49m\u001b[43mstream\u001b[49m\u001b[43m)\u001b[49m\n\u001b[1;32m    259\u001b[0m \u001b[38;5;28mself\u001b[39m\u001b[38;5;241m.\u001b[39mstream \u001b[38;5;241m=\u001b[39m stream\n\u001b[1;32m    261\u001b[0m \u001b[38;5;28mself\u001b[39m\u001b[38;5;241m.\u001b[39m_override_encryption \u001b[38;5;241m=\u001b[39m \u001b[38;5;28;01mFalse\u001b[39;00m\n",
      "File \u001b[0;32m~/.conda/envs/project-nepo-env/lib/python3.8/site-packages/PyPDF2/_reader.py:1225\u001b[0m, in \u001b[0;36mPdfReader.read\u001b[0;34m(self, stream)\u001b[0m\n\u001b[1;32m   1223\u001b[0m     \u001b[38;5;28;01mif\u001b[39;00m stream\u001b[38;5;241m.\u001b[39mtell() \u001b[38;5;241m<\u001b[39m last_mb:\n\u001b[1;32m   1224\u001b[0m         \u001b[38;5;28;01mraise\u001b[39;00m PdfReadError(\u001b[38;5;124m\"\u001b[39m\u001b[38;5;124mEOF marker not found\u001b[39m\u001b[38;5;124m\"\u001b[39m)\n\u001b[0;32m-> 1225\u001b[0m     line \u001b[38;5;241m=\u001b[39m \u001b[43mread_previous_line\u001b[49m\u001b[43m(\u001b[49m\u001b[43mstream\u001b[49m\u001b[43m)\u001b[49m\n\u001b[1;32m   1227\u001b[0m startxref \u001b[38;5;241m=\u001b[39m \u001b[38;5;28mself\u001b[39m\u001b[38;5;241m.\u001b[39m_find_startxref_pos(stream)\n\u001b[1;32m   1229\u001b[0m \u001b[38;5;66;03m# check and eventually correct the startxref only in not strict\u001b[39;00m\n",
      "File \u001b[0;32m~/.conda/envs/project-nepo-env/lib/python3.8/site-packages/PyPDF2/_utils.py:172\u001b[0m, in \u001b[0;36mread_previous_line\u001b[0;34m(stream)\u001b[0m\n\u001b[1;32m    170\u001b[0m found_crlf \u001b[38;5;241m=\u001b[39m \u001b[38;5;28;01mFalse\u001b[39;00m\n\u001b[1;32m    171\u001b[0m \u001b[38;5;28;01mif\u001b[39;00m stream\u001b[38;5;241m.\u001b[39mtell() \u001b[38;5;241m==\u001b[39m \u001b[38;5;241m0\u001b[39m:\n\u001b[0;32m--> 172\u001b[0m     \u001b[38;5;28;01mraise\u001b[39;00m PdfStreamError(STREAM_TRUNCATED_PREMATURELY)\n\u001b[1;32m    173\u001b[0m \u001b[38;5;28;01mwhile\u001b[39;00m \u001b[38;5;28;01mTrue\u001b[39;00m:\n\u001b[1;32m    174\u001b[0m     to_read \u001b[38;5;241m=\u001b[39m \u001b[38;5;28mmin\u001b[39m(DEFAULT_BUFFER_SIZE, stream\u001b[38;5;241m.\u001b[39mtell())\n",
      "\u001b[0;31mPdfStreamError\u001b[0m: Stream has ended unexpectedly"
     ]
    }
   ],
   "source": [
    "constitution = extract_text_from_pdf(example_names[4]); constitution\n"
   ]
  },
  {
   "cell_type": "markdown",
   "id": "257757ba-4387-4eaf-a721-323dee2fd9f3",
   "metadata": {},
   "source": [
    "Scanned - half-dodgy"
   ]
  },
  {
   "cell_type": "code",
   "execution_count": 23,
   "id": "918b0166-b9c8-40e9-9456-8789a8987fbf",
   "metadata": {},
   "outputs": [
    {
     "data": {
      "text/plain": [
       "''"
      ]
     },
     "execution_count": 23,
     "metadata": {},
     "output_type": "execute_result"
    }
   ],
   "source": [
    "constitution = extract_text_from_pdf(example_names[5]); constitution"
   ]
  },
  {
   "cell_type": "code",
   "execution_count": 24,
   "id": "843f5ad5-4976-4732-b187-a961c8e6d095",
   "metadata": {},
   "outputs": [
    {
     "data": {
      "text/plain": [
       "''"
      ]
     },
     "execution_count": 24,
     "metadata": {},
     "output_type": "execute_result"
    }
   ],
   "source": [
    "constitution = extract_text_from_pdf(example_names[6]); constitution"
   ]
  },
  {
   "cell_type": "code",
   "execution_count": null,
   "id": "d3ee3567-0006-49d8-99ec-d24593d24b32",
   "metadata": {},
   "outputs": [],
   "source": []
  }
 ],
 "metadata": {
  "kernelspec": {
   "display_name": "project-nepo-env:Python",
   "language": "python",
   "name": "conda-env-project-nepo-env-py"
  },
  "language_info": {
   "codemirror_mode": {
    "name": "ipython",
    "version": 3
   },
   "file_extension": ".py",
   "mimetype": "text/x-python",
   "name": "python",
   "nbconvert_exporter": "python",
   "pygments_lexer": "ipython3",
   "version": "3.8.13"
  }
 },
 "nbformat": 4,
 "nbformat_minor": 5
}
