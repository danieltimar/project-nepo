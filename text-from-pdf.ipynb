{
 "cells": [
  {
   "cell_type": "markdown",
   "id": "0014d68a-887e-40f2-bae2-c707a5f4893a",
   "metadata": {},
   "source": [
    "# Extracting text data out of PDF and word files"
   ]
  },
  {
   "cell_type": "code",
   "execution_count": 6,
   "id": "f4038055-2dbc-446c-9945-ba264cc5f02a",
   "metadata": {},
   "outputs": [],
   "source": [
    "from os import listdir\n",
    "from os.path import isfile, join\n",
    "import PyPDF2\n",
    "import textract"
   ]
  },
  {
   "cell_type": "code",
   "execution_count": 5,
   "id": "8e5ad3d0-f386-4781-98c8-388dc93dcd3c",
   "metadata": {},
   "outputs": [],
   "source": [
    "PATH_TO_FILES = 'data/raw/examples/'"
   ]
  },
  {
   "cell_type": "code",
   "execution_count": 9,
   "id": "36ebf3cc-a7fe-4507-801b-e974e38f2d50",
   "metadata": {},
   "outputs": [
    {
     "data": {
      "text/plain": [
       "['Constitution.pdf',\n",
       " 'GenerosityConstitutionscanned.pdf',\n",
       " 'InstumentofGovernance.pdf',\n",
       " 'YCBPTAconstitution2.pdf',\n",
       " 'FoundationGoverningDocument.docx',\n",
       " 'iso-8859-1GoverningDocumentBalesFarm.pdf',\n",
       " 'FONAconstitution.pdf']"
      ]
     },
     "execution_count": 9,
     "metadata": {},
     "output_type": "execute_result"
    }
   ],
   "source": [
    "example_names = [f for f in listdir(PATH_TO_FILES) if isfile(join(PATH_TO_FILES, f))]; example_names"
   ]
  },
  {
   "cell_type": "code",
   "execution_count": null,
   "id": "6fb99a5e-802e-4d5e-b044-5548682c95ce",
   "metadata": {},
   "outputs": [],
   "source": []
  }
 ],
 "metadata": {
  "kernelspec": {
   "display_name": "project-nepo-env:Python",
   "language": "python",
   "name": "conda-env-project-nepo-env-py"
  },
  "language_info": {
   "codemirror_mode": {
    "name": "ipython",
    "version": 3
   },
   "file_extension": ".py",
   "mimetype": "text/x-python",
   "name": "python",
   "nbconvert_exporter": "python",
   "pygments_lexer": "ipython3",
   "version": "3.8.13"
  }
 },
 "nbformat": 4,
 "nbformat_minor": 5
}
